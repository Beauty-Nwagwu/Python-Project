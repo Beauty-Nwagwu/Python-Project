{
 "cells": [
  {
   "cell_type": "code",
   "execution_count": 1,
   "id": "e30682cc",
   "metadata": {},
   "outputs": [
    {
     "name": "stdout",
     "output_type": "stream",
     "text": [
      "      Name  Score\n",
      "0    Alice     85\n",
      "1      Bob     90\n",
      "2  Charlie     78\n"
     ]
    }
   ],
   "source": [
    "import pandas as pd\n",
    "# Create the data\n",
    "data={\n",
    "    'Name':['Alice','Bob','Charlie'],\n",
    "    'Score':[85, 90,78]\n",
    "}\n",
    "#Create a DataFrame (a table)\n",
    "df=pd.DataFrame(data)\n",
    "#Show the data\n",
    "print(df)"
   ]
  },
  {
   "cell_type": "code",
   "execution_count": 2,
   "id": "e10a319b",
   "metadata": {},
   "outputs": [
    {
     "data": {
      "text/html": [
       "<div>\n",
       "<style scoped>\n",
       "    .dataframe tbody tr th:only-of-type {\n",
       "        vertical-align: middle;\n",
       "    }\n",
       "\n",
       "    .dataframe tbody tr th {\n",
       "        vertical-align: top;\n",
       "    }\n",
       "\n",
       "    .dataframe thead th {\n",
       "        text-align: right;\n",
       "    }\n",
       "</style>\n",
       "<table border=\"1\" class=\"dataframe\">\n",
       "  <thead>\n",
       "    <tr style=\"text-align: right;\">\n",
       "      <th></th>\n",
       "      <th>Name</th>\n",
       "      <th>Score</th>\n",
       "    </tr>\n",
       "  </thead>\n",
       "  <tbody>\n",
       "    <tr>\n",
       "      <th>0</th>\n",
       "      <td>Alice</td>\n",
       "      <td>85</td>\n",
       "    </tr>\n",
       "    <tr>\n",
       "      <th>1</th>\n",
       "      <td>Bob</td>\n",
       "      <td>90</td>\n",
       "    </tr>\n",
       "  </tbody>\n",
       "</table>\n",
       "</div>"
      ],
      "text/plain": [
       "    Name  Score\n",
       "0  Alice     85\n",
       "1    Bob     90"
      ]
     },
     "execution_count": 2,
     "metadata": {},
     "output_type": "execute_result"
    }
   ],
   "source": [
    "df.columns\n",
    "df['Score'].mean()\n",
    "df[df['Score']>80]"
   ]
  },
  {
   "cell_type": "code",
   "execution_count": 3,
   "id": "6bcf7e0f",
   "metadata": {},
   "outputs": [
    {
     "data": {
      "text/html": [
       "<div>\n",
       "<style scoped>\n",
       "    .dataframe tbody tr th:only-of-type {\n",
       "        vertical-align: middle;\n",
       "    }\n",
       "\n",
       "    .dataframe tbody tr th {\n",
       "        vertical-align: top;\n",
       "    }\n",
       "\n",
       "    .dataframe thead th {\n",
       "        text-align: right;\n",
       "    }\n",
       "</style>\n",
       "<table border=\"1\" class=\"dataframe\">\n",
       "  <thead>\n",
       "    <tr style=\"text-align: right;\">\n",
       "      <th></th>\n",
       "      <th>Name</th>\n",
       "      <th>Score</th>\n",
       "      <th>Grade</th>\n",
       "    </tr>\n",
       "  </thead>\n",
       "  <tbody>\n",
       "    <tr>\n",
       "      <th>0</th>\n",
       "      <td>Alice</td>\n",
       "      <td>85</td>\n",
       "      <td>B</td>\n",
       "    </tr>\n",
       "    <tr>\n",
       "      <th>1</th>\n",
       "      <td>Bob</td>\n",
       "      <td>90</td>\n",
       "      <td>A</td>\n",
       "    </tr>\n",
       "    <tr>\n",
       "      <th>2</th>\n",
       "      <td>Charlie</td>\n",
       "      <td>78</td>\n",
       "      <td>C</td>\n",
       "    </tr>\n",
       "  </tbody>\n",
       "</table>\n",
       "</div>"
      ],
      "text/plain": [
       "      Name  Score Grade\n",
       "0    Alice     85     B\n",
       "1      Bob     90     A\n",
       "2  Charlie     78     C"
      ]
     },
     "execution_count": 3,
     "metadata": {},
     "output_type": "execute_result"
    }
   ],
   "source": [
    "df['Grade']=['B','A','C']\n",
    "df.head()"
   ]
  },
  {
   "cell_type": "code",
   "execution_count": 3,
   "id": "3fd99269",
   "metadata": {},
   "outputs": [
    {
     "name": "stdout",
     "output_type": "stream",
     "text": [
      "      Name  Age  Score\n",
      "0    Alice   23     85\n",
      "1      Bob   25     90\n",
      "2  Charlie   22     78\n"
     ]
    }
   ],
   "source": [
    "import pandas as pd\n",
    "data={\n",
    "    'Name':['Alice','Bob','Charlie'],\n",
    "    'Age':[23, 25, 22],\n",
    "    'Score':[85, 90,78]\n",
    "}\n",
    "students = pd.DataFrame(data)\n",
    "print(students)"
   ]
  },
  {
   "cell_type": "code",
   "execution_count": 4,
   "id": "16289722",
   "metadata": {},
   "outputs": [],
   "source": [
    "import pandas as pd\n",
    "dataset = pd.read_excel(\"Car Inventory.xlsx\")"
   ]
  },
  {
   "cell_type": "code",
   "execution_count": 5,
   "id": "d4a93b58",
   "metadata": {},
   "outputs": [
    {
     "data": {
      "text/html": [
       "<div>\n",
       "<style scoped>\n",
       "    .dataframe tbody tr th:only-of-type {\n",
       "        vertical-align: middle;\n",
       "    }\n",
       "\n",
       "    .dataframe tbody tr th {\n",
       "        vertical-align: top;\n",
       "    }\n",
       "\n",
       "    .dataframe thead th {\n",
       "        text-align: right;\n",
       "    }\n",
       "</style>\n",
       "<table border=\"1\" class=\"dataframe\">\n",
       "  <thead>\n",
       "    <tr style=\"text-align: right;\">\n",
       "      <th></th>\n",
       "      <th>Unnamed: 0</th>\n",
       "      <th>Make</th>\n",
       "      <th>Model</th>\n",
       "      <th>Color</th>\n",
       "      <th>Mileage</th>\n",
       "      <th>Price</th>\n",
       "      <th>Cost</th>\n",
       "    </tr>\n",
       "  </thead>\n",
       "  <tbody>\n",
       "    <tr>\n",
       "      <th>0</th>\n",
       "      <td>NaN</td>\n",
       "      <td>Honda</td>\n",
       "      <td>Accord</td>\n",
       "      <td>Red</td>\n",
       "      <td>63512</td>\n",
       "      <td>4000</td>\n",
       "      <td>3000</td>\n",
       "    </tr>\n",
       "    <tr>\n",
       "      <th>1</th>\n",
       "      <td>NaN</td>\n",
       "      <td>Honda</td>\n",
       "      <td>Accord</td>\n",
       "      <td>Blue</td>\n",
       "      <td>95135</td>\n",
       "      <td>2500</td>\n",
       "      <td>2000</td>\n",
       "    </tr>\n",
       "    <tr>\n",
       "      <th>2</th>\n",
       "      <td>NaN</td>\n",
       "      <td>Honda</td>\n",
       "      <td>Accord</td>\n",
       "      <td>Silver</td>\n",
       "      <td>101354</td>\n",
       "      <td>2000</td>\n",
       "      <td>1500</td>\n",
       "    </tr>\n",
       "    <tr>\n",
       "      <th>3</th>\n",
       "      <td>NaN</td>\n",
       "      <td>Toyota</td>\n",
       "      <td>Camry</td>\n",
       "      <td>Black</td>\n",
       "      <td>75006</td>\n",
       "      <td>2198</td>\n",
       "      <td>1900</td>\n",
       "    </tr>\n",
       "    <tr>\n",
       "      <th>4</th>\n",
       "      <td>NaN</td>\n",
       "      <td>Nissan</td>\n",
       "      <td>Altima</td>\n",
       "      <td>Green</td>\n",
       "      <td>69847</td>\n",
       "      <td>3826</td>\n",
       "      <td>3000</td>\n",
       "    </tr>\n",
       "    <tr>\n",
       "      <th>5</th>\n",
       "      <td>NaN</td>\n",
       "      <td>Nissan</td>\n",
       "      <td>Altima</td>\n",
       "      <td>Green</td>\n",
       "      <td>55233</td>\n",
       "      <td>2970</td>\n",
       "      <td>2500</td>\n",
       "    </tr>\n",
       "    <tr>\n",
       "      <th>6</th>\n",
       "      <td>NaN</td>\n",
       "      <td>Toyota</td>\n",
       "      <td>Corolla</td>\n",
       "      <td>Black</td>\n",
       "      <td>87278</td>\n",
       "      <td>2224</td>\n",
       "      <td>2100</td>\n",
       "    </tr>\n",
       "    <tr>\n",
       "      <th>7</th>\n",
       "      <td>NaN</td>\n",
       "      <td>Toyota</td>\n",
       "      <td>Corolla</td>\n",
       "      <td>Blue</td>\n",
       "      <td>130684</td>\n",
       "      <td>2798</td>\n",
       "      <td>2200</td>\n",
       "    </tr>\n",
       "    <tr>\n",
       "      <th>8</th>\n",
       "      <td>NaN</td>\n",
       "      <td>Toyota</td>\n",
       "      <td>Corolla</td>\n",
       "      <td>Silver</td>\n",
       "      <td>59169</td>\n",
       "      <td>2160</td>\n",
       "      <td>2000</td>\n",
       "    </tr>\n",
       "    <tr>\n",
       "      <th>9</th>\n",
       "      <td>NaN</td>\n",
       "      <td>Honda</td>\n",
       "      <td>Civic</td>\n",
       "      <td>White</td>\n",
       "      <td>138789</td>\n",
       "      <td>2723</td>\n",
       "      <td>1900</td>\n",
       "    </tr>\n",
       "    <tr>\n",
       "      <th>10</th>\n",
       "      <td>NaN</td>\n",
       "      <td>Ford</td>\n",
       "      <td>F-150</td>\n",
       "      <td>Black</td>\n",
       "      <td>89073</td>\n",
       "      <td>3950</td>\n",
       "      <td>3000</td>\n",
       "    </tr>\n",
       "    <tr>\n",
       "      <th>11</th>\n",
       "      <td>NaN</td>\n",
       "      <td>Chevrolet</td>\n",
       "      <td>Silverado</td>\n",
       "      <td>Green</td>\n",
       "      <td>109231</td>\n",
       "      <td>4959</td>\n",
       "      <td>4500</td>\n",
       "    </tr>\n",
       "    <tr>\n",
       "      <th>12</th>\n",
       "      <td>NaN</td>\n",
       "      <td>Chevrolet</td>\n",
       "      <td>Impala</td>\n",
       "      <td>Silver</td>\n",
       "      <td>87675</td>\n",
       "      <td>3791</td>\n",
       "      <td>3500</td>\n",
       "    </tr>\n",
       "    <tr>\n",
       "      <th>13</th>\n",
       "      <td>NaN</td>\n",
       "      <td>Chevrolet</td>\n",
       "      <td>Impala</td>\n",
       "      <td>White</td>\n",
       "      <td>140811</td>\n",
       "      <td>2340</td>\n",
       "      <td>2000</td>\n",
       "    </tr>\n",
       "    <tr>\n",
       "      <th>14</th>\n",
       "      <td>NaN</td>\n",
       "      <td>Chevrolet</td>\n",
       "      <td>Malibu</td>\n",
       "      <td>White</td>\n",
       "      <td>139300</td>\n",
       "      <td>3361</td>\n",
       "      <td>3000</td>\n",
       "    </tr>\n",
       "    <tr>\n",
       "      <th>15</th>\n",
       "      <td>NaN</td>\n",
       "      <td>Ford</td>\n",
       "      <td>Escape</td>\n",
       "      <td>Black</td>\n",
       "      <td>63259</td>\n",
       "      <td>3196</td>\n",
       "      <td>3050</td>\n",
       "    </tr>\n",
       "    <tr>\n",
       "      <th>16</th>\n",
       "      <td>NaN</td>\n",
       "      <td>Ford</td>\n",
       "      <td>Escape</td>\n",
       "      <td>Red</td>\n",
       "      <td>40826</td>\n",
       "      <td>4397</td>\n",
       "      <td>3900</td>\n",
       "    </tr>\n",
       "    <tr>\n",
       "      <th>17</th>\n",
       "      <td>NaN</td>\n",
       "      <td>Ford</td>\n",
       "      <td>Mustang</td>\n",
       "      <td>Silver</td>\n",
       "      <td>41560</td>\n",
       "      <td>3706</td>\n",
       "      <td>3100</td>\n",
       "    </tr>\n",
       "    <tr>\n",
       "      <th>18</th>\n",
       "      <td>NaN</td>\n",
       "      <td>Honda</td>\n",
       "      <td>CRV</td>\n",
       "      <td>Blue</td>\n",
       "      <td>49326</td>\n",
       "      <td>4745</td>\n",
       "      <td>4100</td>\n",
       "    </tr>\n",
       "    <tr>\n",
       "      <th>19</th>\n",
       "      <td>NaN</td>\n",
       "      <td>Nissan</td>\n",
       "      <td>Maxima</td>\n",
       "      <td>Red</td>\n",
       "      <td>101856</td>\n",
       "      <td>2914</td>\n",
       "      <td>2500</td>\n",
       "    </tr>\n",
       "    <tr>\n",
       "      <th>20</th>\n",
       "      <td>NaN</td>\n",
       "      <td>Ford</td>\n",
       "      <td>Fusion</td>\n",
       "      <td>Black</td>\n",
       "      <td>42542</td>\n",
       "      <td>2659</td>\n",
       "      <td>2100</td>\n",
       "    </tr>\n",
       "    <tr>\n",
       "      <th>21</th>\n",
       "      <td>NaN</td>\n",
       "      <td>Dodge</td>\n",
       "      <td>Charger</td>\n",
       "      <td>Silver</td>\n",
       "      <td>34853</td>\n",
       "      <td>4349</td>\n",
       "      <td>3500</td>\n",
       "    </tr>\n",
       "    <tr>\n",
       "      <th>22</th>\n",
       "      <td>NaN</td>\n",
       "      <td>Dodge</td>\n",
       "      <td>Charger</td>\n",
       "      <td>Silver</td>\n",
       "      <td>58173</td>\n",
       "      <td>4252</td>\n",
       "      <td>4000</td>\n",
       "    </tr>\n",
       "    <tr>\n",
       "      <th>23</th>\n",
       "      <td>NaN</td>\n",
       "      <td>Dodge</td>\n",
       "      <td>Charger</td>\n",
       "      <td>Black</td>\n",
       "      <td>136775</td>\n",
       "      <td>2090</td>\n",
       "      <td>1800</td>\n",
       "    </tr>\n",
       "  </tbody>\n",
       "</table>\n",
       "</div>"
      ],
      "text/plain": [
       "    Unnamed: 0       Make      Model   Color  Mileage  Price  Cost\n",
       "0          NaN      Honda     Accord     Red    63512   4000  3000\n",
       "1          NaN      Honda     Accord    Blue    95135   2500  2000\n",
       "2          NaN      Honda     Accord  Silver   101354   2000  1500\n",
       "3          NaN     Toyota      Camry   Black    75006   2198  1900\n",
       "4          NaN     Nissan     Altima   Green    69847   3826  3000\n",
       "5          NaN     Nissan     Altima   Green    55233   2970  2500\n",
       "6          NaN     Toyota    Corolla   Black    87278   2224  2100\n",
       "7          NaN     Toyota    Corolla    Blue   130684   2798  2200\n",
       "8          NaN     Toyota    Corolla  Silver    59169   2160  2000\n",
       "9          NaN      Honda      Civic   White   138789   2723  1900\n",
       "10         NaN       Ford      F-150   Black    89073   3950  3000\n",
       "11         NaN  Chevrolet  Silverado   Green   109231   4959  4500\n",
       "12         NaN  Chevrolet     Impala  Silver    87675   3791  3500\n",
       "13         NaN  Chevrolet     Impala   White   140811   2340  2000\n",
       "14         NaN  Chevrolet     Malibu   White   139300   3361  3000\n",
       "15         NaN       Ford     Escape   Black    63259   3196  3050\n",
       "16         NaN       Ford     Escape     Red    40826   4397  3900\n",
       "17         NaN       Ford    Mustang  Silver    41560   3706  3100\n",
       "18         NaN      Honda        CRV    Blue    49326   4745  4100\n",
       "19         NaN     Nissan     Maxima     Red   101856   2914  2500\n",
       "20         NaN       Ford     Fusion   Black    42542   2659  2100\n",
       "21         NaN      Dodge    Charger  Silver    34853   4349  3500\n",
       "22         NaN      Dodge    Charger  Silver    58173   4252  4000\n",
       "23         NaN      Dodge    Charger   Black   136775   2090  1800"
      ]
     },
     "execution_count": 5,
     "metadata": {},
     "output_type": "execute_result"
    }
   ],
   "source": [
    "dataset"
   ]
  },
  {
   "cell_type": "code",
   "execution_count": 17,
   "id": "68295588",
   "metadata": {},
   "outputs": [
    {
     "name": "stdout",
     "output_type": "stream",
     "text": [
      "   Unnamed: 0    Make   Model   Color  Mileage  Price  Cost\n",
      "0         NaN   Honda  Accord     Red    63512   4000  3000\n",
      "1         NaN   Honda  Accord    Blue    95135   2500  2000\n",
      "2         NaN   Honda  Accord  Silver   101354   2000  1500\n",
      "3         NaN  Toyota   Camry   Black    75006   2198  1900\n",
      "4         NaN  Nissan  Altima   Green    69847   3826  3000\n"
     ]
    }
   ],
   "source": [
    "#3 MAIN PHASES OF DATA MANIPULATION:\n",
    "\n",
    "#1.  DATA PREPARATION\n",
    "#This is the first step where you load your raw data and get it ready.\n",
    " #Loading Data\n",
    "#Imagine you downloaded a excel file from an online shop showing customer orders.\n",
    "\n",
    "import pandas as pd\n",
    "# Load a Excel file into a DataFrame\n",
    "df = pd.read_excel(\"Car Inventory.xlsx\") #This file must be in your folder\n",
    "# View first few rows\n",
    "print(df.head())\n",
    "#pd.read_excel() is the read function to load excel files."
   ]
  },
  {
   "cell_type": "code",
   "execution_count": 16,
   "id": "445775ce",
   "metadata": {},
   "outputs": [
    {
     "name": "stdout",
     "output_type": "stream",
     "text": [
      "   Student  Age  Score\n",
      "0    Alice   20     85\n",
      "1      Bob   21     90\n",
      "2  Charlie   22     78\n"
     ]
    }
   ],
   "source": [
    "students = pd.DataFrame({\n",
    "    'Student': ['Alice', 'Bob', 'Charlie'],\n",
    "    'Age': [20, 21, 22]\n",
    "})\n",
    "\n",
    "scores = pd.DataFrame({\n",
    "    'Student': ['Alice', 'Bob', 'Charlie'],\n",
    "    'Score': [85, 90, 78]\n",
    "})\n",
    "\n",
    "merged = pd.merge(students, scores, on='Student')\n",
    "\n",
    "print(merged)\n"
   ]
  },
  {
   "cell_type": "code",
   "execution_count": 18,
   "id": "77e0a5f2",
   "metadata": {},
   "outputs": [
    {
     "name": "stdout",
     "output_type": "stream",
     "text": [
      "    Name  Age\n",
      "0   John   25\n",
      "1   Mary   27\n",
      "0  James   28\n",
      "1   Rita   30\n"
     ]
    }
   ],
   "source": [
    "#Concatenating Data\n",
    "#If you have two data tables with the same structure, and you want to stack them together, use concat().\n",
    "data1 = pd.DataFrame({'Name': ['John', 'Mary'], 'Age': [25, 27]})\n",
    "data2 = pd.DataFrame({'Name': ['James', 'Rita'], 'Age': [28, 30]})\n",
    "\n",
    "combined = pd.concat([data1, data2])\n",
    "\n",
    "print(combined)"
   ]
  },
  {
   "cell_type": "code",
   "execution_count": 19,
   "id": "5dd2b23e",
   "metadata": {},
   "outputs": [
    {
     "name": "stdout",
     "output_type": "stream",
     "text": [
      "Before Removing Duplicates:\n",
      "      Name                Email\n",
      "0    Alice    alice@example.com\n",
      "1      Bob      bob@example.com\n",
      "2    Alice    alice@example.com\n",
      "3  Charlie  charlie@example.com\n",
      "4      Bob      bob@example.com\n"
     ]
    }
   ],
   "source": [
    "#DATA TRANSFORMATION IN PANDAS\n",
    "#What is it?\n",
    "#It means changing, cleaning, or adjusting your data so it’s in the right shape to analyze.\n",
    "#Think of it like ironing and folding your clothes after washing — you’re making everything neat and useful.\n",
    "\n",
    "#Real-Life Example:\n",
    "#Imagine you’re working with a customer list that:\n",
    "#•Has duplicate entries (same name, email, etc.)\n",
    "#•Some emails are written in all caps\n",
    "#•You want to extract first names from full names\n",
    "#Let’s fix these!\n",
    "#1. Removing Duplicates\n",
    "#Sometimes the same data gets entered more than once.\n",
    "import pandas as pd\n",
    "# Sample data with duplicates\n",
    "data = {\n",
    "    'Name': ['Alice', 'Bob', 'Alice', 'Charlie', 'Bob'],\n",
    "    'Email': ['alice@example.com', 'bob@example.com', 'alice@example.com', 'charlie@example.com', 'bob@example.com']\n",
    "}\n",
    "\n",
    "df = pd.DataFrame(data)\n",
    "\n",
    "print(\"Before Removing Duplicates:\")\n",
    "print(df)"
   ]
  },
  {
   "cell_type": "code",
   "execution_count": 20,
   "id": "c9e09ed9",
   "metadata": {},
   "outputs": [
    {
     "name": "stdout",
     "output_type": "stream",
     "text": [
      "After Removing Duplicates:\n",
      "      Name                Email\n",
      "0    Alice    alice@example.com\n",
      "1      Bob      bob@example.com\n",
      "3  Charlie  charlie@example.com\n"
     ]
    }
   ],
   "source": [
    "# Remove duplicate rows\n",
    "df_unique = df.drop_duplicates()\n",
    "\n",
    "print(\"After Removing Duplicates:\")\n",
    "print(df_unique)\n",
    "#2. String Manipulation\n",
    "#Let’s say you have full names in one column and want to:\n",
    "#•Extract first names\n",
    "#•Convert all names to title case (e.g. “john” → “John”)\n",
    "data = {\n",
    "    'FullName': ['john doe', 'MARY ANN', 'alice Smith']\n",
    "}\n",
    "\n",
    "df = pd.DataFrame(data)"
   ]
  },
  {
   "cell_type": "code",
   "execution_count": 21,
   "id": "b5989ca3",
   "metadata": {},
   "outputs": [
    {
     "name": "stdout",
     "output_type": "stream",
     "text": [
      "      FullName FirstName LastName\n",
      "0     John Doe      John      Doe\n",
      "1     Mary Ann      Mary      Ann\n",
      "2  Alice Smith     Alice    Smith\n"
     ]
    }
   ],
   "source": [
    "# Convert to title case\n",
    "df['FullName'] = df['FullName'].str.title()\n",
    "\n",
    "# Split full name into first and last\n",
    "df['FirstName'] = df['FullName'].str.split().str[0]\n",
    "df['LastName'] = df['FullName'].str.split().str[1]\n",
    "\n",
    "print(df)"
   ]
  },
  {
   "cell_type": "code",
   "execution_count": 1,
   "id": "c9bf517c",
   "metadata": {},
   "outputs": [
    {
     "name": "stdout",
     "output_type": "stream",
     "text": [
      "  Product Salesperson  Quantity  Amount\n",
      "0    Rice        John        10    5000\n",
      "1   Beans        Mary         5    2500\n",
      "2    Rice        John         8    4000\n",
      "3   Garri        Mary         7    3500\n",
      "4   Beans        John         6    3000\n",
      "5   Garri        Mary         9    4500\n"
     ]
    }
   ],
   "source": [
    "#DATA AGGREGATION IN PANDAS \n",
    "#What is Data Aggregation?\n",
    "#Think of data aggregation like organizing your income and expenses by category. Instead of looking at every single item, you group them (e.g. food, transport, rent) and then summarize each category (e.g. total, average, highest, lowest).\n",
    "#In Pandas, aggregation is done using tools like:\n",
    "#•groupby() – for grouping\n",
    "#•Aggregate functions – sum(), mean(), max(), min(), etc.\n",
    "\n",
    "#Scenario:\n",
    "#You’re a store owner with a sales record. You want to kno\n",
    "#Scenario:\n",
    "#You’re a store owner with a sales record. You want to know:\n",
    "#•Total sales by product\n",
    "#•Average quantity by salesperson\n",
    "\n",
    "import pandas as pd\n",
    "\n",
    "data = {\n",
    "    'Product': ['Rice', 'Beans', 'Rice', 'Garri', 'Beans', 'Garri'],\n",
    "    'Salesperson': ['John', 'Mary', 'John', 'Mary', 'John', 'Mary'],\n",
    "    'Quantity': [10, 5, 8, 7, 6, 9],\n",
    "    'Amount': [5000, 2500, 4000, 3500, 3000, 4500]\n",
    "}\n",
    "\n",
    "df = pd.DataFrame(data)\n",
    "print(df)"
   ]
  },
  {
   "cell_type": "code",
   "execution_count": 2,
   "id": "8f61568d",
   "metadata": {},
   "outputs": [
    {
     "name": "stdout",
     "output_type": "stream",
     "text": [
      "Product\n",
      "Beans    5500\n",
      "Garri    8000\n",
      "Rice     9000\n",
      "Name: Amount, dtype: int64\n"
     ]
    }
   ],
   "source": [
    "#1. Using groupby() with sum()\n",
    "#Total sales by product:\n",
    "grouped_by_product = df.groupby('Product')['Amount'].sum()\n",
    "print(grouped_by_product)\n",
    "\n",
    "#What this means:\n",
    "#•Beans sold for a total of ₦5500\n",
    "#•Garri sold for ₦8000\n",
    "#•Rice sold for ₦9000"
   ]
  },
  {
   "cell_type": "code",
   "execution_count": 3,
   "id": "aae6eeca",
   "metadata": {},
   "outputs": [
    {
     "name": "stdout",
     "output_type": "stream",
     "text": [
      "Salesperson\n",
      "John    8.0\n",
      "Mary    7.0\n",
      "Name: Quantity, dtype: float64\n"
     ]
    }
   ],
   "source": [
    "#2. Using groupby() with mean()\n",
    "#Average quantity by salesperson:\n",
    "grouped_by_salesperson = df.groupby('Salesperson')['Quantity'].mean()\n",
    "print(grouped_by_salesperson)\n"
   ]
  },
  {
   "cell_type": "code",
   "execution_count": 4,
   "id": "48db2cce",
   "metadata": {},
   "outputs": [
    {
     "name": "stdout",
     "output_type": "stream",
     "text": [
      "          sum    mean   max   min\n",
      "Product                          \n",
      "Beans    5500  2750.0  3000  2500\n",
      "Garri    8000  4000.0  4500  3500\n",
      "Rice     9000  4500.0  5000  4000\n"
     ]
    }
   ],
   "source": [
    "#3. Using agg() to combine multiple summaries\n",
    "#Total and Average Amount by Product:\n",
    "summary = df.groupby('Product')['Amount'].agg(['sum', 'mean', 'max', 'min'])\n",
    "print(summary)\n",
    "\n",
    "#This tells us:\n",
    "#•The total, average, maximum, and minimum sales per product."
   ]
  },
  {
   "cell_type": "code",
   "execution_count": null,
   "id": "375c5505",
   "metadata": {},
   "outputs": [],
   "source": []
  }
 ],
 "metadata": {
  "kernelspec": {
   "display_name": "Python 3 (ipykernel)",
   "language": "python",
   "name": "python3"
  },
  "language_info": {
   "codemirror_mode": {
    "name": "ipython",
    "version": 3
   },
   "file_extension": ".py",
   "mimetype": "text/x-python",
   "name": "python",
   "nbconvert_exporter": "python",
   "pygments_lexer": "ipython3",
   "version": "3.9.12"
  }
 },
 "nbformat": 4,
 "nbformat_minor": 5
}
