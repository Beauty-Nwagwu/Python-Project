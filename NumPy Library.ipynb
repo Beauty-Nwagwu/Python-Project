{
 "cells": [
  {
   "cell_type": "code",
   "execution_count": 1,
   "id": "727d17ad",
   "metadata": {},
   "outputs": [],
   "source": [
    "import numpy as np"
   ]
  },
  {
   "cell_type": "code",
   "execution_count": 2,
   "id": "c29a96ca",
   "metadata": {},
   "outputs": [
    {
     "name": "stdout",
     "output_type": "stream",
     "text": [
      "[1 2 3]\n"
     ]
    }
   ],
   "source": [
    "from numpy import array # import the array constructor itself\n",
    "a = array([1,2,3]) # now you can call array() without np.\n",
    "print(a) # [123]"
   ]
  },
  {
   "cell_type": "code",
   "execution_count": 3,
   "id": "bff338d7",
   "metadata": {},
   "outputs": [
    {
     "name": "stdout",
     "output_type": "stream",
     "text": [
      "[1 2 3 4 5]\n"
     ]
    }
   ],
   "source": [
    "import numpy as np\n",
    "a = np.array([1,2,3,4,5])\n",
    "print(a)\n",
    "#OUTPUT: [12345]\n",
    "#This is a 1D array with five numbers."
   ]
  },
  {
   "cell_type": "code",
   "execution_count": 4,
   "id": "8365c583",
   "metadata": {},
   "outputs": [
    {
     "name": "stdout",
     "output_type": "stream",
     "text": [
      "[3 4 5 6 7]\n"
     ]
    }
   ],
   "source": [
    "#Add a Number to All Elements\n",
    "print(a+2)\n",
    "#OUTPUT:[3 4 5 6 7]\n",
    "#NumPy automatically adds 2 to every element in the array."
   ]
  },
  {
   "cell_type": "code",
   "execution_count": 5,
   "id": "f9cd9d75",
   "metadata": {},
   "outputs": [
    {
     "name": "stdout",
     "output_type": "stream",
     "text": [
      "[ 3  6  9 12 15]\n"
     ]
    }
   ],
   "source": [
    "#Multiply All Elements\n",
    "print(a*3)\n",
    "#OUTPUT:[3 6 9...]\n",
    "#Multiplies each number in the array by 3."
   ]
  },
  {
   "cell_type": "code",
   "execution_count": 6,
   "id": "f3134db6",
   "metadata": {},
   "outputs": [
    {
     "name": "stdout",
     "output_type": "stream",
     "text": [
      "(5,)\n",
      "1\n",
      "int32\n"
     ]
    }
   ],
   "source": [
    "#4. Check Array Information\n",
    "print(a.shape)  #Shape of the array\n",
    "print(a.ndim)   #Number of dimensions\n",
    "print(a.dtype)  #Data type"
   ]
  },
  {
   "cell_type": "code",
   "execution_count": 1,
   "id": "5644babe",
   "metadata": {},
   "outputs": [
    {
     "name": "stdout",
     "output_type": "stream",
     "text": [
      "[4 5 6 7]\n"
     ]
    }
   ],
   "source": [
    "import numpy as np\n",
    "a=np.arange(4) #This creates: [0, 1, 2, 3]\n",
    "print(a+4) #Adds 4 to each item"
   ]
  },
  {
   "cell_type": "code",
   "execution_count": 2,
   "id": "8cd26fa0",
   "metadata": {},
   "outputs": [
    {
     "name": "stdout",
     "output_type": "stream",
     "text": [
      "15.0\n"
     ]
    }
   ],
   "source": [
    "a=np.array ([3.3, 4.5, 1.2, 5.7, 0.3])\n",
    "a.sum()\n",
    "print(a.sum())"
   ]
  },
  {
   "cell_type": "code",
   "execution_count": 5,
   "id": "23c19b9c",
   "metadata": {},
   "outputs": [
    {
     "name": "stdout",
     "output_type": "stream",
     "text": [
      "[13.3 24.5 31.2 45.7 50.3]\n"
     ]
    }
   ],
   "source": [
    "#Examples 3- Math between two arrays:\n",
    "b=np.array([10,20,30,40,50])\n",
    "print(a+b)"
   ]
  },
  {
   "cell_type": "code",
   "execution_count": 6,
   "id": "744ca5b4",
   "metadata": {},
   "outputs": [
    {
     "name": "stdout",
     "output_type": "stream",
     "text": [
      "0.3\n"
     ]
    }
   ],
   "source": [
    "a.min()\n",
    "print(a.min())"
   ]
  },
  {
   "cell_type": "code",
   "execution_count": 7,
   "id": "dcf42d8e",
   "metadata": {},
   "outputs": [],
   "source": [
    "# Create an array with 5 decimal numbers\n",
    "a = np.array([3.3, 4.5, 1.2, 5.7, 0.3])"
   ]
  },
  {
   "cell_type": "code",
   "execution_count": 8,
   "id": "193e4648",
   "metadata": {},
   "outputs": [
    {
     "name": "stdout",
     "output_type": "stream",
     "text": [
      "Sum: 15.0\n",
      "Minimum: 0.3\n",
      "Maximum: 5.7\n",
      "Mean: 3.0\n",
      "Standard Deviation: 2.0079840636817816\n"
     ]
    }
   ],
   "source": [
    "# Perform some basic aggregate operations:\n",
    "print(\"Sum:\", a.sum())       # Adds all numbers → 15.0\n",
    "print(\"Minimum:\", a.min())   # Smallest number → 0.3\n",
    "print(\"Maximum:\", a.max())   # Largest number → 5.7\n",
    "print(\"Mean:\", a.mean())     # Average → 3.0\n",
    "print(\"Standard Deviation:\", a.std())  # Spread → ~2.01\n",
    "\n",
    "#a.sum() – adds all numbers in the array.\n",
    "#a.min() – finds the smallest number.\n",
    "#a.max() – finds the largest numb\n"
   ]
  },
  {
   "cell_type": "code",
   "execution_count": 9,
   "id": "fb4db047",
   "metadata": {},
   "outputs": [],
   "source": [
    "#Think of a NumPy array like a row of boxes, each holding a number. Each box has a position number (index) starting from 0.\n",
    "#For example:\n",
    "import numpy as np\n",
    "a = np.array([10, 11, 12, 13, 14, 15])"
   ]
  },
  {
   "cell_type": "code",
   "execution_count": 10,
   "id": "4c5af781",
   "metadata": {},
   "outputs": [
    {
     "data": {
      "text/plain": [
       "15"
      ]
     },
     "execution_count": 10,
     "metadata": {},
     "output_type": "execute_result"
    }
   ],
   "source": [
    "#INDEXING — Picking a Specific Box\n",
    "#Just like choosing one box from the shelf.\n",
    "#Example:\n",
    "a[4]  # Picks the value at position 4\n",
    "#Negative Indexing:\n",
    "#You can also count from the end using negative numbers.\n",
    "a[-1]  # Last item\n",
    "# Output: 15\n"
   ]
  },
  {
   "cell_type": "code",
   "execution_count": 11,
   "id": "6c058e1c",
   "metadata": {},
   "outputs": [
    {
     "data": {
      "text/plain": [
       "array([11, 13, 14])"
      ]
     },
     "execution_count": 11,
     "metadata": {},
     "output_type": "execute_result"
    }
   ],
   "source": [
    "a[-6]  # First item\n",
    "# Output: 10\n",
    "#Picking Multiple Boxes:\n",
    "#Use square brackets and list of indexes.\n",
    "a[[1, 3, 4]]\n",
    "# Output: array([11, 13, 14])\n"
   ]
  },
  {
   "cell_type": "code",
   "execution_count": 12,
   "id": "f1faf447",
   "metadata": {},
   "outputs": [
    {
     "data": {
      "text/plain": [
       "array([11, 12, 13, 14])"
      ]
     },
     "execution_count": 12,
     "metadata": {},
     "output_type": "execute_result"
    }
   ],
   "source": [
    "#SLICING — Cutting Out a Section\n",
    "#Slicing is like cutting a slice of bread  from a loaf.\n",
    "#Example:\n",
    "a[1:5]  # From index 1 to 4 (5 is not included)\n",
    "# Output: array([11, 12, 13, 14])\n",
    "\n"
   ]
  },
  {
   "cell_type": "code",
   "execution_count": 13,
   "id": "a05896ed",
   "metadata": {},
   "outputs": [
    {
     "name": "stdout",
     "output_type": "stream",
     "text": [
      "10\n",
      "11\n",
      "12\n",
      "13\n",
      "14\n",
      "15\n"
     ]
    }
   ],
   "source": [
    "#ITERATING — Going Through Every Item\n",
    "#Iterating means checking each item one by one, like checking each student's name in a list.\n",
    "#Example:\n",
    "for i in a:\n",
    "    print(i)"
   ]
  },
  {
   "cell_type": "code",
   "execution_count": 14,
   "id": "68c0da18",
   "metadata": {},
   "outputs": [
    {
     "name": "stdout",
     "output_type": "stream",
     "text": [
      "a[1:5]: [11 12 13 14]\n"
     ]
    }
   ],
   "source": [
    "#Slice from index 1 up to-but not including-index 5\n",
    "slice1=a[1:5] \n",
    "print(\"a[1:5]:\", slice1)"
   ]
  },
  {
   "cell_type": "code",
   "execution_count": 18,
   "id": "da24cc2f",
   "metadata": {},
   "outputs": [
    {
     "name": "stdout",
     "output_type": "stream",
     "text": [
      "a[1:5:2]: [11 13]\n"
     ]
    }
   ],
   "source": [
    "#Same slice but step by 2(every second element)\n",
    "slice2=a[1:5:2]\n",
    "print(\"a[1:5:2]:\",slice2)"
   ]
  },
  {
   "cell_type": "code",
   "execution_count": null,
   "id": "6f04e7dc",
   "metadata": {},
   "outputs": [],
   "source": []
  }
 ],
 "metadata": {
  "kernelspec": {
   "display_name": "Python 3 (ipykernel)",
   "language": "python",
   "name": "python3"
  },
  "language_info": {
   "codemirror_mode": {
    "name": "ipython",
    "version": 3
   },
   "file_extension": ".py",
   "mimetype": "text/x-python",
   "name": "python",
   "nbconvert_exporter": "python",
   "pygments_lexer": "ipython3",
   "version": "3.9.12"
  }
 },
 "nbformat": 4,
 "nbformat_minor": 5
}
