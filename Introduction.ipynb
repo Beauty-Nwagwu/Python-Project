{
 "cells": [
  {
   "cell_type": "code",
   "execution_count": 1,
   "id": "e24c5328",
   "metadata": {
    "collapsed": true
   },
   "outputs": [
    {
     "name": "stdout",
     "output_type": "stream",
     "text": [
      "Hello, Axia Africa Student!\n"
     ]
    }
   ],
   "source": [
    "#Python is good for AI, and C/C++ is good for programming microcontrollers.\n",
    "print(\"Hello, Axia Africa Student!\")"
   ]
  },
  {
   "cell_type": "code",
   "execution_count": 1,
   "id": "fa201a7f",
   "metadata": {},
   "outputs": [],
   "source": [
    "#2. Comments\n",
    "#Used to explain code (not executed).\n",
    "# This is a single-line comment\n"
   ]
  },
  {
   "cell_type": "code",
   "execution_count": 2,
   "id": "8bbc088c",
   "metadata": {},
   "outputs": [],
   "source": [
    "#3. Variables\n",
    "#Used to store values.\n",
    "# name = \"John\"\n",
    "age = 25\n"
   ]
  },
  {
   "cell_type": "code",
   "execution_count": 4,
   "id": "857b0c83",
   "metadata": {},
   "outputs": [
    {
     "name": "stdout",
     "output_type": "stream",
     "text": [
      "My name is Beauty\n"
     ]
    }
   ],
   "source": [
    "#To use a variable in a string, you can add it to the string, like this:\n",
    "a = 'Beauty'\n",
    "print('My name is ' + a)\n",
    "\n"
   ]
  },
  {
   "cell_type": "code",
   "execution_count": 5,
   "id": "b088fd3b",
   "metadata": {},
   "outputs": [
    {
     "name": "stdout",
     "output_type": "stream",
     "text": [
      "2\n"
     ]
    }
   ],
   "source": [
    "#If we want to decrement a variable, we can do that in a similar way as incrementing. And the number we want to decrement by can be any number, not just 1.\n",
    "#The code below shows how to decrement a variable by 3 in different programming languages, using shorthand.\n",
    "a = 5\n",
    "a -= 3\n",
    "print(a)"
   ]
  },
  {
   "cell_type": "code",
   "execution_count": 10,
   "id": "1a5ec8c4",
   "metadata": {},
   "outputs": [
    {
     "name": "stdout",
     "output_type": "stream",
     "text": [
      "Temperature:25°C\n",
      "it is warm\n"
     ]
    }
   ],
   "source": [
    "#IF STATEMENT\n",
    "#We want to use a variable in an if statement, as part of the condition, like this:\n",
    "temperature = 25\n",
    "print ('Temperature:' + str(temperature)+ '°C')\n",
    "if temperature > 20:\n",
    "    print ('it is warm')\n",
    "else:\n",
    "    print('it is not warm')"
   ]
  },
  {
   "cell_type": "code",
   "execution_count": 20,
   "id": "78cd85ec",
   "metadata": {},
   "outputs": [
    {
     "name": "stdout",
     "output_type": "stream",
     "text": [
      "Attendance:50%\n",
      "pass\n"
     ]
    }
   ],
   "source": [
    "#IF STATEMENT\n",
    "#We want to use a variable in an if statement, as part of the condition, like this:\n",
    "Attendance = 50\n",
    "print ('Attendance:' + str(Attendance)+ '%')\n",
    "if Attendance > 25:\n",
    "    print ('pass')\n",
    "else:\n",
    "    print ('fail')"
   ]
  },
  {
   "cell_type": "code",
   "execution_count": 21,
   "id": "6d8f6f4f",
   "metadata": {},
   "outputs": [
    {
     "name": "stdout",
     "output_type": "stream",
     "text": [
      "Age: 15\n",
      "You are not an adult yet.\n"
     ]
    }
   ],
   "source": [
    "#But usually, we also want to handle the case when the condition is not true, so we use an else statement for that.\n",
    "age = 15\n",
    "print('Age: ' + str(age))\n",
    "if age > 17:\n",
    "  print('You are an adult!')\n",
    "else:\n",
    "  print('You are not an adult yet.')"
   ]
  },
  {
   "cell_type": "code",
   "execution_count": 24,
   "id": "de4e2515",
   "metadata": {},
   "outputs": [
    {
     "name": "stdout",
     "output_type": "stream",
     "text": [
      "Bola: 25\n",
      "You are an adult\n"
     ]
    }
   ],
   "source": [
    "#But usually, we also want to handle the case when the condition is not true, so we use an else statement for that.\n",
    "Bola = 25\n",
    "print('Bola: ' + str(Bola))\n",
    "if Bola < 13:\n",
    "  print('You are a child!')\n",
    "elif Bola < 20:\n",
    "  print('You are a teenager')\n",
    "else:\n",
    "    print ('You are an adult')"
   ]
  },
  {
   "cell_type": "code",
   "execution_count": 25,
   "id": "3509f734",
   "metadata": {},
   "outputs": [
    {
     "name": "stdout",
     "output_type": "stream",
     "text": [
      "Bola: 25\n",
      "and an adult!\n"
     ]
    }
   ],
   "source": [
    "#A nested if statement is an if statement inside another if statement.\n",
    "#Nested if statements are useful in cases where you want to check a condition,only if another condition is true. \n",
    "Bola = 25\n",
    "print('Bola: ' + str(Bola))\n",
    "if Bola < 13:\n",
    "  print('You are a child!')\n",
    "elif Bola < 20:\n",
    "  print('You are a teenager')\n",
    "if Bola > 17:\n",
    "    print ('and an adult!')\n",
    "else:\n",
    "    print ('You are an adult')"
   ]
  },
  {
   "cell_type": "code",
   "execution_count": 1,
   "id": "12dcbc9b",
   "metadata": {},
   "outputs": [
    {
     "name": "stdout",
     "output_type": "stream",
     "text": [
      "25\n",
      "<class 'int'>\n"
     ]
    }
   ],
   "source": [
    "#a. Integer (int)\n",
    "#Used to store whole numbers (no decimals).\n",
    "age = 25\n",
    "print(age)       # Output: 25\n",
    "print(type(age)) # Output: <class 'int'>\n"
   ]
  },
  {
   "cell_type": "code",
   "execution_count": 2,
   "id": "fa5b0f71",
   "metadata": {},
   "outputs": [
    {
     "name": "stdout",
     "output_type": "stream",
     "text": [
      "5.9\n",
      "<class 'float'>\n"
     ]
    }
   ],
   "source": [
    "#b. Float (float)\n",
    "#Used to store numbers with decimal points.\n",
    "height = 5.9\n",
    "print(height)       # Output: 5.9\n",
    "print(type(height)) # Output: <class 'float'>"
   ]
  },
  {
   "cell_type": "code",
   "execution_count": 4,
   "id": "b2151e8c",
   "metadata": {},
   "outputs": [
    {
     "name": "stdout",
     "output_type": "stream",
     "text": [
      "Beauty\n",
      "<class 'str'>\n"
     ]
    }
   ],
   "source": [
    "\n",
    "#2. String (str)\n",
    "#A sequence of characters enclosed in single (') or double (\") quotes.\n",
    "name = \"Beauty\"\n",
    "greeting = 'Welcome to Data Analytics!'\n",
    "print(name)        # Output: Magdalene\n",
    "print(type(name))  # Output: <class 'str'>\n"
   ]
  },
  {
   "cell_type": "code",
   "execution_count": 5,
   "id": "73a95490",
   "metadata": {},
   "outputs": [
    {
     "name": "stdout",
     "output_type": "stream",
     "text": [
      "True\n"
     ]
    }
   ],
   "source": [
    "#3. Boolean (bool)\n",
    "#Stores either True or False, often used in comparisons.\n",
    "# Comparison Example\n",
    "print(10 > 5)            # Output: True"
   ]
  },
  {
   "cell_type": "code",
   "execution_count": 6,
   "id": "07051a12",
   "metadata": {},
   "outputs": [
    {
     "name": "stdout",
     "output_type": "stream",
     "text": [
      "['apple', 'orange', 'cherry']\n",
      "<class 'list'>\n"
     ]
    }
   ],
   "source": [
    "#4. Sequence Types\n",
    "#Used to store multiple items in an ordered way.\n",
    "#a. List (list) – Mutable (changeable)\n",
    "fruits = [\"apple\", \"banana\", \"cherry\"]\n",
    "fruits[1] = \"orange\"\n",
    "print(fruits)       # Output: ['apple', 'orange', 'cherry']\n",
    "print(type(fruits)) # Output: <class 'list'>\n",
    "\n"
   ]
  },
  {
   "cell_type": "code",
   "execution_count": 7,
   "id": "11c39bdd",
   "metadata": {},
   "outputs": [
    {
     "name": "stdout",
     "output_type": "stream",
     "text": [
      "('red', 'green', 'blue')\n",
      "<class 'tuple'>\n"
     ]
    }
   ],
   "source": [
    "#b. Tuple (tuple) – Immutable (unchangeable)\n",
    "colors = (\"red\", \"green\", \"blue\")\n",
    "# colors[0] = \"yellow\" → ❌ Error, can't change tuple\n",
    "print(colors)       # Output: ('red', 'green', 'blue')\n",
    "print(type(colors)) # Output: <class 'tuple'>"
   ]
  },
  {
   "cell_type": "code",
   "execution_count": 8,
   "id": "f5e2baa2",
   "metadata": {},
   "outputs": [
    {
     "name": "stdout",
     "output_type": "stream",
     "text": [
      "Beauty\n",
      "<class 'dict'>\n"
     ]
    }
   ],
   "source": [
    "#5. Dictionary (dict)\n",
    "#Used to store key-value pairs.\n",
    "student = {\n",
    "    \"name\": \"Beauty\",\n",
    "    \"age\": 28,\n",
    "    \"course\": \"Data Analytics\"\n",
    "}\n",
    "print(student[\"name\"])      # Output: Magdalene\n",
    "print(type(student))        # Output: <class 'dict'>\n",
    "\n"
   ]
  },
  {
   "cell_type": "code",
   "execution_count": 9,
   "id": "0628c8c8",
   "metadata": {},
   "outputs": [
    {
     "name": "stdout",
     "output_type": "stream",
     "text": [
      "[1, 2, 3, 4]\n",
      "<class 'range'>\n"
     ]
    }
   ],
   "source": [
    "#c. Range (range)\n",
    "#Used to generate a sequence of numbers.\n",
    "numbers = range(1, 5)\n",
    "print(list(numbers))   # Output: [1, 2, 3, 4]\n",
    "print(type(numbers))   # Output: <class 'range'>\n"
   ]
  },
  {
   "cell_type": "code",
   "execution_count": 10,
   "id": "470706fe",
   "metadata": {},
   "outputs": [
    {
     "name": "stdout",
     "output_type": "stream",
     "text": [
      "8\n"
     ]
    }
   ],
   "source": [
    "def add_numbers(a, b):\n",
    "    return a + b\n",
    "result = add_numbers(5, 3)\n",
    "print(result)   # Output: 8"
   ]
  },
  {
   "cell_type": "code",
   "execution_count": 11,
   "id": "e6f50d52",
   "metadata": {},
   "outputs": [
    {
     "name": "stdout",
     "output_type": "stream",
     "text": [
      "13\n",
      "7\n",
      "30\n",
      "3.3333333333333335\n",
      "1\n",
      "1000\n",
      "3\n"
     ]
    }
   ],
   "source": [
    "#Python Operators\n",
    "#Operators perform operations on variables and values. Python supports several types of operators:\n",
    "#1. Arithmetic Operators\n",
    "#These are used for basic mathematical operations.\n",
    "#Examples:\n",
    "a = 10\n",
    "b = 3\n",
    "print(a + b)  # Addition: 13\n",
    "print(a - b)  # Subtraction: 7\n",
    "print(a * b)  # Multiplication: 30\n",
    "print(a / b)  # Division: 3.33\n",
    "print(a % b)  # Modulus (remainder): 1\n",
    "print(a ** b) # Exponentiation: 1000\n",
    "print(a // b) # Floor Division: 3"
   ]
  },
  {
   "cell_type": "code",
   "execution_count": 13,
   "id": "abf0010f",
   "metadata": {},
   "outputs": [],
   "source": [
    "#2. Assignment Operators\n",
    "#Used to assign values to variables.\n",
    "#Examples:\n",
    "x = 5\n",
    "x += 3  # x = x + 3 → 8\n",
    "x *= 2  # x = x * 2 → 16\n",
    "\n"
   ]
  },
  {
   "cell_type": "code",
   "execution_count": 14,
   "id": "0568101f",
   "metadata": {},
   "outputs": [
    {
     "name": "stdout",
     "output_type": "stream",
     "text": [
      "False\n",
      "True\n",
      "True\n",
      "False\n"
     ]
    }
   ],
   "source": [
    "#3. Comparison Operators\n",
    "#Used to compare values and return Boolean results.\n",
    "#Examples:\n",
    "x = 10\n",
    "y = 20\n",
    "print(x == y)  # False\n",
    "print(x != y)  # True\n",
    "print(x < y)   # True\n",
    "print(x >= y)  # False"
   ]
  },
  {
   "cell_type": "code",
   "execution_count": 15,
   "id": "ef16e9bb",
   "metadata": {},
   "outputs": [
    {
     "name": "stdout",
     "output_type": "stream",
     "text": [
      "True\n",
      "False\n",
      "True\n"
     ]
    }
   ],
   "source": [
    "#4. Logical Operators\n",
    "#Used to combine conditional statements.\n",
    "#Examples:\n",
    "x = 5\n",
    "print(x > 2 and x < 10)  # True\n",
    "print(x > 10 or x < 2)   # False\n",
    "print(not(x > 10))       # True"
   ]
  },
  {
   "cell_type": "code",
   "execution_count": 19,
   "id": "0dd19a78",
   "metadata": {},
   "outputs": [
    {
     "name": "stdout",
     "output_type": "stream",
     "text": [
      "True\n",
      "True\n",
      "6\n",
      "10\n",
      "10\n",
      "3.14\n",
      "<class 'int'>\n"
     ]
    }
   ],
   "source": [
    "#5. Membership Operators\n",
    "#Used to test if a sequence contains a value.\n",
    "#Examples:\n",
    "fruits = [\"apple\", \"banana\", \"cherry\"]\n",
    "print(\"apple\" in fruits)     # True\n",
    "print(\"grape\" not in fruits) # True\n",
    "\n",
    "print(len(\"Beauty\"))        # Output : 6\n",
    "print(abs(-10))            # Output : 10\n",
    "print(sum([1, 2, 3, 4]))   # Output : 10\n",
    "print(round (3.14159, 2))  # Output : 3.14\n",
    "print(type(42))            # Output: <class 'int'>"
   ]
  },
  {
   "cell_type": "code",
   "execution_count": 20,
   "id": "cdf26cd6",
   "metadata": {},
   "outputs": [
    {
     "name": "stdout",
     "output_type": "stream",
     "text": [
      "Hello World\n",
      "Enter name: Beauty\n"
     ]
    },
    {
     "data": {
      "text/plain": [
       "6"
      ]
     },
     "execution_count": 20,
     "metadata": {},
     "output_type": "execute_result"
    }
   ],
   "source": [
    "#Python Functions\n",
    "#1. Built-in Functions\n",
    "#Examples of built-in functions:\n",
    "print(\"Hello World\")     # Displays text\n",
    "input(\"Enter name: \")   # Accepts user input\n",
    "abs(-5)                  # Returns 5\n",
    "len(\"Python\")            # Returns 6\n",
    "sum([1, 2, 3])           # Returns 6"
   ]
  },
  {
   "cell_type": "code",
   "execution_count": null,
   "id": "e8018f63",
   "metadata": {},
   "outputs": [],
   "source": []
  }
 ],
 "metadata": {
  "kernelspec": {
   "display_name": "Python 3 (ipykernel)",
   "language": "python",
   "name": "python3"
  },
  "language_info": {
   "codemirror_mode": {
    "name": "ipython",
    "version": 3
   },
   "file_extension": ".py",
   "mimetype": "text/x-python",
   "name": "python",
   "nbconvert_exporter": "python",
   "pygments_lexer": "ipython3",
   "version": "3.9.12"
  }
 },
 "nbformat": 4,
 "nbformat_minor": 5
}
